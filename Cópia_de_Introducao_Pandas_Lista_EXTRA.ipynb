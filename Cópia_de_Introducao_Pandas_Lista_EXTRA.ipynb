{
 "cells": [
  {
   "cell_type": "markdown",
   "metadata": {
    "colab_type": "text",
    "id": "rHLcriKWLRe4"
   },
   "source": [
    "# Introdução ao Pandas"
   ]
  },
  {
   "cell_type": "code",
   "execution_count": 2,
   "metadata": {
    "colab": {
     "base_uri": "https://localhost:8080/",
     "height": 35
    },
    "colab_type": "code",
    "id": "aSRYu62xUi3g",
    "outputId": "597449fe-f2cf-4497-fcbf-9d0071141b38"
   },
   "outputs": [
    {
     "data": {
      "text/plain": [
       "'1.0.1'"
      ]
     },
     "execution_count": 2,
     "metadata": {},
     "output_type": "execute_result"
    }
   ],
   "source": [
    "from __future__ import print_function\n",
    "\n",
    "import pandas as pd\n",
    "import numpy as np\n",
    "pd.__version__"
   ]
  },
  {
   "cell_type": "markdown",
   "metadata": {
    "colab_type": "text",
    "id": "daQreKXIUslr"
   },
   "source": [
    "\n",
    "  # Definição\n",
    "  **DataFrame:** Similar a uma tabela relacional. Dados organizados em linhas e colunas \\\\\n",
    "  **Series:** Similar a uma coluna de uma tabela relacional. Um dataframe é formado por um conjunto de series.\n"
   ]
  },
  {
   "cell_type": "markdown",
   "metadata": {
    "colab_type": "text",
    "id": "fjnAk1xcU0yc"
   },
   "source": [
    "Criar uma serie."
   ]
  },
  {
   "cell_type": "code",
   "execution_count": 3,
   "metadata": {
    "colab": {
     "base_uri": "https://localhost:8080/",
     "height": 85
    },
    "colab_type": "code",
    "id": "DFZ42Uq7UFDj",
    "outputId": "e11ea326-ec5a-4c3f-a349-f00f1e7796b4"
   },
   "outputs": [
    {
     "data": {
      "text/plain": [
       "0      Felipe\n",
       "1       Ramon\n",
       "2    Cruvinel\n",
       "dtype: object"
      ]
     },
     "execution_count": 3,
     "metadata": {},
     "output_type": "execute_result"
    }
   ],
   "source": [
    "s1 = pd.Series(['Felipe', 'Ramon', 'Cruvinel'])\n",
    "s1"
   ]
  },
  {
   "cell_type": "markdown",
   "metadata": {
    "colab_type": "text",
    "id": "U5ouUp1cU6pC"
   },
   "source": [
    "Criar um dataframe a partir de dois dicionários"
   ]
  },
  {
   "cell_type": "code",
   "execution_count": 4,
   "metadata": {
    "colab": {
     "base_uri": "https://localhost:8080/",
     "height": 142
    },
    "colab_type": "code",
    "id": "avgr6GfiUh8t",
    "outputId": "bcf8ffb7-55d0-440e-9ce1-93ac622eb95c"
   },
   "outputs": [
    {
     "data": {
      "text/html": [
       "<div>\n",
       "<style scoped>\n",
       "    .dataframe tbody tr th:only-of-type {\n",
       "        vertical-align: middle;\n",
       "    }\n",
       "\n",
       "    .dataframe tbody tr th {\n",
       "        vertical-align: top;\n",
       "    }\n",
       "\n",
       "    .dataframe thead th {\n",
       "        text-align: right;\n",
       "    }\n",
       "</style>\n",
       "<table border=\"1\" class=\"dataframe\">\n",
       "  <thead>\n",
       "    <tr style=\"text-align: right;\">\n",
       "      <th></th>\n",
       "      <th>Cidade</th>\n",
       "      <th>Populacao</th>\n",
       "    </tr>\n",
       "  </thead>\n",
       "  <tbody>\n",
       "    <tr>\n",
       "      <th>0</th>\n",
       "      <td>San Francisco</td>\n",
       "      <td>852469</td>\n",
       "    </tr>\n",
       "    <tr>\n",
       "      <th>1</th>\n",
       "      <td>San Jose</td>\n",
       "      <td>1015785</td>\n",
       "    </tr>\n",
       "    <tr>\n",
       "      <th>2</th>\n",
       "      <td>Sacramento</td>\n",
       "      <td>485199</td>\n",
       "    </tr>\n",
       "  </tbody>\n",
       "</table>\n",
       "</div>"
      ],
      "text/plain": [
       "          Cidade  Populacao\n",
       "0  San Francisco     852469\n",
       "1       San Jose    1015785\n",
       "2     Sacramento     485199"
      ]
     },
     "execution_count": 4,
     "metadata": {},
     "output_type": "execute_result"
    }
   ],
   "source": [
    "city_names = pd.Series(['San Francisco', 'San Jose', 'Sacramento'])\n",
    "population = pd.Series([852469, 1015785, 485199])\n",
    "\n",
    "variavel = pd.DataFrame({ 'Cidade': city_names, 'Populacao': population })\n",
    "variavel"
   ]
  },
  {
   "cell_type": "markdown",
   "metadata": {
    "colab_type": "text",
    "id": "oa5wfZT7VHJl"
   },
   "source": [
    "Leitura de Arquivo CSV"
   ]
  },
  {
   "cell_type": "code",
   "execution_count": 5,
   "metadata": {
    "colab": {
     "base_uri": "https://localhost:8080/",
     "height": 297
    },
    "colab_type": "code",
    "id": "av6RYOraVG1V",
    "outputId": "8dd5e20e-a4a1-497e-d44c-85e147a9d181"
   },
   "outputs": [
    {
     "data": {
      "text/html": [
       "<div>\n",
       "<style scoped>\n",
       "    .dataframe tbody tr th:only-of-type {\n",
       "        vertical-align: middle;\n",
       "    }\n",
       "\n",
       "    .dataframe tbody tr th {\n",
       "        vertical-align: top;\n",
       "    }\n",
       "\n",
       "    .dataframe thead th {\n",
       "        text-align: right;\n",
       "    }\n",
       "</style>\n",
       "<table border=\"1\" class=\"dataframe\">\n",
       "  <thead>\n",
       "    <tr style=\"text-align: right;\">\n",
       "      <th></th>\n",
       "      <th>longitude</th>\n",
       "      <th>latitude</th>\n",
       "      <th>housing_median_age</th>\n",
       "      <th>total_rooms</th>\n",
       "      <th>total_bedrooms</th>\n",
       "      <th>population</th>\n",
       "      <th>households</th>\n",
       "      <th>median_income</th>\n",
       "      <th>median_house_value</th>\n",
       "    </tr>\n",
       "  </thead>\n",
       "  <tbody>\n",
       "    <tr>\n",
       "      <th>count</th>\n",
       "      <td>17000.000000</td>\n",
       "      <td>17000.000000</td>\n",
       "      <td>17000.000000</td>\n",
       "      <td>17000.000000</td>\n",
       "      <td>17000.000000</td>\n",
       "      <td>17000.000000</td>\n",
       "      <td>17000.000000</td>\n",
       "      <td>17000.000000</td>\n",
       "      <td>17000.000000</td>\n",
       "    </tr>\n",
       "    <tr>\n",
       "      <th>mean</th>\n",
       "      <td>-119.562108</td>\n",
       "      <td>35.625225</td>\n",
       "      <td>28.589353</td>\n",
       "      <td>2643.664412</td>\n",
       "      <td>539.410824</td>\n",
       "      <td>1429.573941</td>\n",
       "      <td>501.221941</td>\n",
       "      <td>3.883578</td>\n",
       "      <td>207300.912353</td>\n",
       "    </tr>\n",
       "    <tr>\n",
       "      <th>std</th>\n",
       "      <td>2.005166</td>\n",
       "      <td>2.137340</td>\n",
       "      <td>12.586937</td>\n",
       "      <td>2179.947071</td>\n",
       "      <td>421.499452</td>\n",
       "      <td>1147.852959</td>\n",
       "      <td>384.520841</td>\n",
       "      <td>1.908157</td>\n",
       "      <td>115983.764387</td>\n",
       "    </tr>\n",
       "    <tr>\n",
       "      <th>min</th>\n",
       "      <td>-124.350000</td>\n",
       "      <td>32.540000</td>\n",
       "      <td>1.000000</td>\n",
       "      <td>2.000000</td>\n",
       "      <td>1.000000</td>\n",
       "      <td>3.000000</td>\n",
       "      <td>1.000000</td>\n",
       "      <td>0.499900</td>\n",
       "      <td>14999.000000</td>\n",
       "    </tr>\n",
       "    <tr>\n",
       "      <th>25%</th>\n",
       "      <td>-121.790000</td>\n",
       "      <td>33.930000</td>\n",
       "      <td>18.000000</td>\n",
       "      <td>1462.000000</td>\n",
       "      <td>297.000000</td>\n",
       "      <td>790.000000</td>\n",
       "      <td>282.000000</td>\n",
       "      <td>2.566375</td>\n",
       "      <td>119400.000000</td>\n",
       "    </tr>\n",
       "    <tr>\n",
       "      <th>50%</th>\n",
       "      <td>-118.490000</td>\n",
       "      <td>34.250000</td>\n",
       "      <td>29.000000</td>\n",
       "      <td>2127.000000</td>\n",
       "      <td>434.000000</td>\n",
       "      <td>1167.000000</td>\n",
       "      <td>409.000000</td>\n",
       "      <td>3.544600</td>\n",
       "      <td>180400.000000</td>\n",
       "    </tr>\n",
       "    <tr>\n",
       "      <th>75%</th>\n",
       "      <td>-118.000000</td>\n",
       "      <td>37.720000</td>\n",
       "      <td>37.000000</td>\n",
       "      <td>3151.250000</td>\n",
       "      <td>648.250000</td>\n",
       "      <td>1721.000000</td>\n",
       "      <td>605.250000</td>\n",
       "      <td>4.767000</td>\n",
       "      <td>265000.000000</td>\n",
       "    </tr>\n",
       "    <tr>\n",
       "      <th>max</th>\n",
       "      <td>-114.310000</td>\n",
       "      <td>41.950000</td>\n",
       "      <td>52.000000</td>\n",
       "      <td>37937.000000</td>\n",
       "      <td>6445.000000</td>\n",
       "      <td>35682.000000</td>\n",
       "      <td>6082.000000</td>\n",
       "      <td>15.000100</td>\n",
       "      <td>500001.000000</td>\n",
       "    </tr>\n",
       "  </tbody>\n",
       "</table>\n",
       "</div>"
      ],
      "text/plain": [
       "          longitude      latitude  housing_median_age   total_rooms  \\\n",
       "count  17000.000000  17000.000000        17000.000000  17000.000000   \n",
       "mean    -119.562108     35.625225           28.589353   2643.664412   \n",
       "std        2.005166      2.137340           12.586937   2179.947071   \n",
       "min     -124.350000     32.540000            1.000000      2.000000   \n",
       "25%     -121.790000     33.930000           18.000000   1462.000000   \n",
       "50%     -118.490000     34.250000           29.000000   2127.000000   \n",
       "75%     -118.000000     37.720000           37.000000   3151.250000   \n",
       "max     -114.310000     41.950000           52.000000  37937.000000   \n",
       "\n",
       "       total_bedrooms    population    households  median_income  \\\n",
       "count    17000.000000  17000.000000  17000.000000   17000.000000   \n",
       "mean       539.410824   1429.573941    501.221941       3.883578   \n",
       "std        421.499452   1147.852959    384.520841       1.908157   \n",
       "min          1.000000      3.000000      1.000000       0.499900   \n",
       "25%        297.000000    790.000000    282.000000       2.566375   \n",
       "50%        434.000000   1167.000000    409.000000       3.544600   \n",
       "75%        648.250000   1721.000000    605.250000       4.767000   \n",
       "max       6445.000000  35682.000000   6082.000000      15.000100   \n",
       "\n",
       "       median_house_value  \n",
       "count        17000.000000  \n",
       "mean        207300.912353  \n",
       "std         115983.764387  \n",
       "min          14999.000000  \n",
       "25%         119400.000000  \n",
       "50%         180400.000000  \n",
       "75%         265000.000000  \n",
       "max         500001.000000  "
      ]
     },
     "execution_count": 5,
     "metadata": {},
     "output_type": "execute_result"
    }
   ],
   "source": [
    "california_housing_dataframe = pd.read_csv(\"https://download.mlcc.google.com/mledu-datasets/california_housing_train.csv\", sep=\",\")\n",
    "california_housing_dataframe.describe()"
   ]
  },
  {
   "cell_type": "markdown",
   "metadata": {
    "colab_type": "text",
    "id": "WrkBjfz5kEQu"
   },
   "source": [
    "Primeiras linhas do dataframe"
   ]
  },
  {
   "cell_type": "code",
   "execution_count": 6,
   "metadata": {
    "colab": {
     "base_uri": "https://localhost:8080/",
     "height": 142
    },
    "colab_type": "code",
    "id": "s3ND3bgOkB5k",
    "outputId": "b66b200c-d686-48f7-d787-2c9679d6b12b"
   },
   "outputs": [
    {
     "data": {
      "text/html": [
       "<div>\n",
       "<style scoped>\n",
       "    .dataframe tbody tr th:only-of-type {\n",
       "        vertical-align: middle;\n",
       "    }\n",
       "\n",
       "    .dataframe tbody tr th {\n",
       "        vertical-align: top;\n",
       "    }\n",
       "\n",
       "    .dataframe thead th {\n",
       "        text-align: right;\n",
       "    }\n",
       "</style>\n",
       "<table border=\"1\" class=\"dataframe\">\n",
       "  <thead>\n",
       "    <tr style=\"text-align: right;\">\n",
       "      <th></th>\n",
       "      <th>longitude</th>\n",
       "      <th>latitude</th>\n",
       "      <th>housing_median_age</th>\n",
       "      <th>total_rooms</th>\n",
       "      <th>total_bedrooms</th>\n",
       "      <th>population</th>\n",
       "      <th>households</th>\n",
       "      <th>median_income</th>\n",
       "      <th>median_house_value</th>\n",
       "    </tr>\n",
       "  </thead>\n",
       "  <tbody>\n",
       "    <tr>\n",
       "      <th>0</th>\n",
       "      <td>-114.31</td>\n",
       "      <td>34.19</td>\n",
       "      <td>15.0</td>\n",
       "      <td>5612.0</td>\n",
       "      <td>1283.0</td>\n",
       "      <td>1015.0</td>\n",
       "      <td>472.0</td>\n",
       "      <td>1.4936</td>\n",
       "      <td>66900.0</td>\n",
       "    </tr>\n",
       "    <tr>\n",
       "      <th>1</th>\n",
       "      <td>-114.47</td>\n",
       "      <td>34.40</td>\n",
       "      <td>19.0</td>\n",
       "      <td>7650.0</td>\n",
       "      <td>1901.0</td>\n",
       "      <td>1129.0</td>\n",
       "      <td>463.0</td>\n",
       "      <td>1.8200</td>\n",
       "      <td>80100.0</td>\n",
       "    </tr>\n",
       "    <tr>\n",
       "      <th>2</th>\n",
       "      <td>-114.56</td>\n",
       "      <td>33.69</td>\n",
       "      <td>17.0</td>\n",
       "      <td>720.0</td>\n",
       "      <td>174.0</td>\n",
       "      <td>333.0</td>\n",
       "      <td>117.0</td>\n",
       "      <td>1.6509</td>\n",
       "      <td>85700.0</td>\n",
       "    </tr>\n",
       "  </tbody>\n",
       "</table>\n",
       "</div>"
      ],
      "text/plain": [
       "   longitude  latitude  housing_median_age  total_rooms  total_bedrooms  \\\n",
       "0    -114.31     34.19                15.0       5612.0          1283.0   \n",
       "1    -114.47     34.40                19.0       7650.0          1901.0   \n",
       "2    -114.56     33.69                17.0        720.0           174.0   \n",
       "\n",
       "   population  households  median_income  median_house_value  \n",
       "0      1015.0       472.0         1.4936             66900.0  \n",
       "1      1129.0       463.0         1.8200             80100.0  \n",
       "2       333.0       117.0         1.6509             85700.0  "
      ]
     },
     "execution_count": 6,
     "metadata": {},
     "output_type": "execute_result"
    }
   ],
   "source": [
    "california_housing_dataframe.head(3)"
   ]
  },
  {
   "cell_type": "code",
   "execution_count": 7,
   "metadata": {
    "colab": {
     "base_uri": "https://localhost:8080/",
     "height": 359
    },
    "colab_type": "code",
    "id": "ZTiF_1QcI3hP",
    "outputId": "ab456f7f-19b5-4abf-fa89-4d3cf621cee0"
   },
   "outputs": [
    {
     "data": {
      "text/html": [
       "<div>\n",
       "<style scoped>\n",
       "    .dataframe tbody tr th:only-of-type {\n",
       "        vertical-align: middle;\n",
       "    }\n",
       "\n",
       "    .dataframe tbody tr th {\n",
       "        vertical-align: top;\n",
       "    }\n",
       "\n",
       "    .dataframe thead th {\n",
       "        text-align: right;\n",
       "    }\n",
       "</style>\n",
       "<table border=\"1\" class=\"dataframe\">\n",
       "  <thead>\n",
       "    <tr style=\"text-align: right;\">\n",
       "      <th></th>\n",
       "      <th>longitude</th>\n",
       "      <th>latitude</th>\n",
       "      <th>housing_median_age</th>\n",
       "      <th>total_rooms</th>\n",
       "      <th>total_bedrooms</th>\n",
       "      <th>population</th>\n",
       "      <th>households</th>\n",
       "      <th>median_income</th>\n",
       "      <th>median_house_value</th>\n",
       "    </tr>\n",
       "  </thead>\n",
       "  <tbody>\n",
       "    <tr>\n",
       "      <th>16990</th>\n",
       "      <td>-124.22</td>\n",
       "      <td>41.73</td>\n",
       "      <td>28.0</td>\n",
       "      <td>3003.0</td>\n",
       "      <td>699.0</td>\n",
       "      <td>1530.0</td>\n",
       "      <td>653.0</td>\n",
       "      <td>1.7038</td>\n",
       "      <td>78300.0</td>\n",
       "    </tr>\n",
       "    <tr>\n",
       "      <th>16991</th>\n",
       "      <td>-124.23</td>\n",
       "      <td>41.75</td>\n",
       "      <td>11.0</td>\n",
       "      <td>3159.0</td>\n",
       "      <td>616.0</td>\n",
       "      <td>1343.0</td>\n",
       "      <td>479.0</td>\n",
       "      <td>2.4805</td>\n",
       "      <td>73200.0</td>\n",
       "    </tr>\n",
       "    <tr>\n",
       "      <th>16992</th>\n",
       "      <td>-124.23</td>\n",
       "      <td>40.81</td>\n",
       "      <td>52.0</td>\n",
       "      <td>1112.0</td>\n",
       "      <td>209.0</td>\n",
       "      <td>544.0</td>\n",
       "      <td>172.0</td>\n",
       "      <td>3.3462</td>\n",
       "      <td>50800.0</td>\n",
       "    </tr>\n",
       "    <tr>\n",
       "      <th>16993</th>\n",
       "      <td>-124.23</td>\n",
       "      <td>40.54</td>\n",
       "      <td>52.0</td>\n",
       "      <td>2694.0</td>\n",
       "      <td>453.0</td>\n",
       "      <td>1152.0</td>\n",
       "      <td>435.0</td>\n",
       "      <td>3.0806</td>\n",
       "      <td>106700.0</td>\n",
       "    </tr>\n",
       "    <tr>\n",
       "      <th>16994</th>\n",
       "      <td>-124.25</td>\n",
       "      <td>40.28</td>\n",
       "      <td>32.0</td>\n",
       "      <td>1430.0</td>\n",
       "      <td>419.0</td>\n",
       "      <td>434.0</td>\n",
       "      <td>187.0</td>\n",
       "      <td>1.9417</td>\n",
       "      <td>76100.0</td>\n",
       "    </tr>\n",
       "    <tr>\n",
       "      <th>16995</th>\n",
       "      <td>-124.26</td>\n",
       "      <td>40.58</td>\n",
       "      <td>52.0</td>\n",
       "      <td>2217.0</td>\n",
       "      <td>394.0</td>\n",
       "      <td>907.0</td>\n",
       "      <td>369.0</td>\n",
       "      <td>2.3571</td>\n",
       "      <td>111400.0</td>\n",
       "    </tr>\n",
       "    <tr>\n",
       "      <th>16996</th>\n",
       "      <td>-124.27</td>\n",
       "      <td>40.69</td>\n",
       "      <td>36.0</td>\n",
       "      <td>2349.0</td>\n",
       "      <td>528.0</td>\n",
       "      <td>1194.0</td>\n",
       "      <td>465.0</td>\n",
       "      <td>2.5179</td>\n",
       "      <td>79000.0</td>\n",
       "    </tr>\n",
       "    <tr>\n",
       "      <th>16997</th>\n",
       "      <td>-124.30</td>\n",
       "      <td>41.84</td>\n",
       "      <td>17.0</td>\n",
       "      <td>2677.0</td>\n",
       "      <td>531.0</td>\n",
       "      <td>1244.0</td>\n",
       "      <td>456.0</td>\n",
       "      <td>3.0313</td>\n",
       "      <td>103600.0</td>\n",
       "    </tr>\n",
       "    <tr>\n",
       "      <th>16998</th>\n",
       "      <td>-124.30</td>\n",
       "      <td>41.80</td>\n",
       "      <td>19.0</td>\n",
       "      <td>2672.0</td>\n",
       "      <td>552.0</td>\n",
       "      <td>1298.0</td>\n",
       "      <td>478.0</td>\n",
       "      <td>1.9797</td>\n",
       "      <td>85800.0</td>\n",
       "    </tr>\n",
       "    <tr>\n",
       "      <th>16999</th>\n",
       "      <td>-124.35</td>\n",
       "      <td>40.54</td>\n",
       "      <td>52.0</td>\n",
       "      <td>1820.0</td>\n",
       "      <td>300.0</td>\n",
       "      <td>806.0</td>\n",
       "      <td>270.0</td>\n",
       "      <td>3.0147</td>\n",
       "      <td>94600.0</td>\n",
       "    </tr>\n",
       "  </tbody>\n",
       "</table>\n",
       "</div>"
      ],
      "text/plain": [
       "       longitude  latitude  housing_median_age  total_rooms  total_bedrooms  \\\n",
       "16990    -124.22     41.73                28.0       3003.0           699.0   \n",
       "16991    -124.23     41.75                11.0       3159.0           616.0   \n",
       "16992    -124.23     40.81                52.0       1112.0           209.0   \n",
       "16993    -124.23     40.54                52.0       2694.0           453.0   \n",
       "16994    -124.25     40.28                32.0       1430.0           419.0   \n",
       "16995    -124.26     40.58                52.0       2217.0           394.0   \n",
       "16996    -124.27     40.69                36.0       2349.0           528.0   \n",
       "16997    -124.30     41.84                17.0       2677.0           531.0   \n",
       "16998    -124.30     41.80                19.0       2672.0           552.0   \n",
       "16999    -124.35     40.54                52.0       1820.0           300.0   \n",
       "\n",
       "       population  households  median_income  median_house_value  \n",
       "16990      1530.0       653.0         1.7038             78300.0  \n",
       "16991      1343.0       479.0         2.4805             73200.0  \n",
       "16992       544.0       172.0         3.3462             50800.0  \n",
       "16993      1152.0       435.0         3.0806            106700.0  \n",
       "16994       434.0       187.0         1.9417             76100.0  \n",
       "16995       907.0       369.0         2.3571            111400.0  \n",
       "16996      1194.0       465.0         2.5179             79000.0  \n",
       "16997      1244.0       456.0         3.0313            103600.0  \n",
       "16998      1298.0       478.0         1.9797             85800.0  \n",
       "16999       806.0       270.0         3.0147             94600.0  "
      ]
     },
     "execution_count": 7,
     "metadata": {},
     "output_type": "execute_result"
    }
   ],
   "source": [
    "california_housing_dataframe.tail(10)"
   ]
  },
  {
   "cell_type": "markdown",
   "metadata": {
    "colab_type": "text",
    "id": "w9-Es5Y6laGd"
   },
   "source": [
    "Histograma para uma coluna do dataframe\n",
    "\n"
   ]
  },
  {
   "cell_type": "code",
   "execution_count": 8,
   "metadata": {
    "colab": {
     "base_uri": "https://localhost:8080/",
     "height": 315
    },
    "colab_type": "code",
    "id": "nqndFVXVlbPN",
    "outputId": "5c9a58fa-6266-40c1-eaf3-3aedaf7aa112"
   },
   "outputs": [
    {
     "data": {
      "text/plain": [
       "array([[<matplotlib.axes._subplots.AxesSubplot object at 0x000001E22D9F1F48>]],\n",
       "      dtype=object)"
      ]
     },
     "execution_count": 8,
     "metadata": {},
     "output_type": "execute_result"
    },
    {
     "data": {
      "image/png": "[encoded data removed]",
      "text/plain": [
       "<Figure size 432x288 with 1 Axes>"
      ]
     },
     "metadata": {
      "needs_background": "light"
     },
     "output_type": "display_data"
    }
   ],
   "source": [
    "california_housing_dataframe.hist('housing_median_age')"
   ]
  },
  {
   "cell_type": "markdown",
   "metadata": {
    "colab_type": "text",
    "id": "XtYZ7114n3b-"
   },
   "source": [
    "## Acesso aos Dados\n",
    "\n"
   ]
  },
  {
   "cell_type": "code",
   "execution_count": 9,
   "metadata": {
    "colab": {
     "base_uri": "https://localhost:8080/",
     "height": 85
    },
    "colab_type": "code",
    "id": "_TFm7-looBFF",
    "outputId": "51dbc2c7-c085-49ed-c690-5a7144afabe9"
   },
   "outputs": [
    {
     "data": {
      "text/plain": [
       "0    San Francisco\n",
       "1         San Jose\n",
       "2       Sacramento\n",
       "Name: City name, dtype: object"
      ]
     },
     "execution_count": 9,
     "metadata": {},
     "output_type": "execute_result"
    }
   ],
   "source": [
    "cities = pd.DataFrame({ 'City name': city_names, 'Population': population })\n",
    "cities['City name']"
   ]
  },
  {
   "cell_type": "code",
   "execution_count": 10,
   "metadata": {
    "colab": {
     "base_uri": "https://localhost:8080/",
     "height": 35
    },
    "colab_type": "code",
    "id": "V5L6xacLoxyv",
    "outputId": "1e8f17be-40ad-486b-ccfb-0a2f20cc185e"
   },
   "outputs": [
    {
     "data": {
      "text/plain": [
       "'San Jose'"
      ]
     },
     "execution_count": 10,
     "metadata": {},
     "output_type": "execute_result"
    }
   ],
   "source": [
    "cities['City name'][1]"
   ]
  },
  {
   "cell_type": "code",
   "execution_count": 11,
   "metadata": {
    "colab": {
     "base_uri": "https://localhost:8080/",
     "height": 111
    },
    "colab_type": "code",
    "id": "gcYX1tBPugZl",
    "outputId": "6499c434-7f0a-4dda-c1e1-3328d33a04c9"
   },
   "outputs": [
    {
     "data": {
      "text/html": [
       "<div>\n",
       "<style scoped>\n",
       "    .dataframe tbody tr th:only-of-type {\n",
       "        vertical-align: middle;\n",
       "    }\n",
       "\n",
       "    .dataframe tbody tr th {\n",
       "        vertical-align: top;\n",
       "    }\n",
       "\n",
       "    .dataframe thead th {\n",
       "        text-align: right;\n",
       "    }\n",
       "</style>\n",
       "<table border=\"1\" class=\"dataframe\">\n",
       "  <thead>\n",
       "    <tr style=\"text-align: right;\">\n",
       "      <th></th>\n",
       "      <th>City name</th>\n",
       "      <th>Population</th>\n",
       "    </tr>\n",
       "  </thead>\n",
       "  <tbody>\n",
       "    <tr>\n",
       "      <th>0</th>\n",
       "      <td>San Francisco</td>\n",
       "      <td>852469</td>\n",
       "    </tr>\n",
       "    <tr>\n",
       "      <th>1</th>\n",
       "      <td>San Jose</td>\n",
       "      <td>1015785</td>\n",
       "    </tr>\n",
       "  </tbody>\n",
       "</table>\n",
       "</div>"
      ],
      "text/plain": [
       "       City name  Population\n",
       "0  San Francisco      852469\n",
       "1       San Jose     1015785"
      ]
     },
     "execution_count": 11,
     "metadata": {},
     "output_type": "execute_result"
    }
   ],
   "source": [
    "cities[0:2]"
   ]
  },
  {
   "cell_type": "markdown",
   "metadata": {
    "colab_type": "text",
    "id": "UmOzt-2mXubB"
   },
   "source": [
    "Exemplo para Filtrar no DAtaframe"
   ]
  },
  {
   "cell_type": "code",
   "execution_count": 12,
   "metadata": {
    "colab": {
     "base_uri": "https://localhost:8080/",
     "height": 419
    },
    "colab_type": "code",
    "id": "egc-BMTHXtVq",
    "outputId": "5d413d53-5a31-4a63-a177-7eff65565ca0"
   },
   "outputs": [],
   "source": [
    "california_housing_dataframe['total_bedrooms']\n",
    "df_aux = california_housing_dataframe[california_housing_dataframe['total_bedrooms'] >= 528]"
   ]
  },
  {
   "cell_type": "code",
   "execution_count": 13,
   "metadata": {
    "colab": {
     "base_uri": "https://localhost:8080/",
     "height": 419
    },
    "colab_type": "code",
    "id": "6icx8GnRZHH-",
    "outputId": "a09f0abd-b322-4e32-e937-6bb494b231e9"
   },
   "outputs": [
    {
     "data": {
      "text/html": [
       "<div>\n",
       "<style scoped>\n",
       "    .dataframe tbody tr th:only-of-type {\n",
       "        vertical-align: middle;\n",
       "    }\n",
       "\n",
       "    .dataframe tbody tr th {\n",
       "        vertical-align: top;\n",
       "    }\n",
       "\n",
       "    .dataframe thead th {\n",
       "        text-align: right;\n",
       "    }\n",
       "</style>\n",
       "<table border=\"1\" class=\"dataframe\">\n",
       "  <thead>\n",
       "    <tr style=\"text-align: right;\">\n",
       "      <th></th>\n",
       "      <th>longitude</th>\n",
       "      <th>latitude</th>\n",
       "      <th>housing_median_age</th>\n",
       "      <th>total_rooms</th>\n",
       "      <th>total_bedrooms</th>\n",
       "      <th>population</th>\n",
       "      <th>households</th>\n",
       "      <th>median_income</th>\n",
       "      <th>median_house_value</th>\n",
       "    </tr>\n",
       "  </thead>\n",
       "  <tbody>\n",
       "    <tr>\n",
       "      <th>0</th>\n",
       "      <td>-114.31</td>\n",
       "      <td>34.19</td>\n",
       "      <td>15.0</td>\n",
       "      <td>5612.0</td>\n",
       "      <td>1283.0</td>\n",
       "      <td>1015.0</td>\n",
       "      <td>472.0</td>\n",
       "      <td>1.4936</td>\n",
       "      <td>66900.0</td>\n",
       "    </tr>\n",
       "    <tr>\n",
       "      <th>1</th>\n",
       "      <td>-114.47</td>\n",
       "      <td>34.40</td>\n",
       "      <td>19.0</td>\n",
       "      <td>7650.0</td>\n",
       "      <td>1901.0</td>\n",
       "      <td>1129.0</td>\n",
       "      <td>463.0</td>\n",
       "      <td>1.8200</td>\n",
       "      <td>80100.0</td>\n",
       "    </tr>\n",
       "    <tr>\n",
       "      <th>2</th>\n",
       "      <td>-114.56</td>\n",
       "      <td>33.69</td>\n",
       "      <td>17.0</td>\n",
       "      <td>720.0</td>\n",
       "      <td>174.0</td>\n",
       "      <td>333.0</td>\n",
       "      <td>117.0</td>\n",
       "      <td>1.6509</td>\n",
       "      <td>85700.0</td>\n",
       "    </tr>\n",
       "    <tr>\n",
       "      <th>3</th>\n",
       "      <td>-114.57</td>\n",
       "      <td>33.64</td>\n",
       "      <td>14.0</td>\n",
       "      <td>1501.0</td>\n",
       "      <td>337.0</td>\n",
       "      <td>515.0</td>\n",
       "      <td>226.0</td>\n",
       "      <td>3.1917</td>\n",
       "      <td>73400.0</td>\n",
       "    </tr>\n",
       "    <tr>\n",
       "      <th>4</th>\n",
       "      <td>-114.57</td>\n",
       "      <td>33.57</td>\n",
       "      <td>20.0</td>\n",
       "      <td>1454.0</td>\n",
       "      <td>326.0</td>\n",
       "      <td>624.0</td>\n",
       "      <td>262.0</td>\n",
       "      <td>1.9250</td>\n",
       "      <td>65500.0</td>\n",
       "    </tr>\n",
       "    <tr>\n",
       "      <th>...</th>\n",
       "      <td>...</td>\n",
       "      <td>...</td>\n",
       "      <td>...</td>\n",
       "      <td>...</td>\n",
       "      <td>...</td>\n",
       "      <td>...</td>\n",
       "      <td>...</td>\n",
       "      <td>...</td>\n",
       "      <td>...</td>\n",
       "    </tr>\n",
       "    <tr>\n",
       "      <th>16995</th>\n",
       "      <td>-124.26</td>\n",
       "      <td>40.58</td>\n",
       "      <td>52.0</td>\n",
       "      <td>2217.0</td>\n",
       "      <td>394.0</td>\n",
       "      <td>907.0</td>\n",
       "      <td>369.0</td>\n",
       "      <td>2.3571</td>\n",
       "      <td>111400.0</td>\n",
       "    </tr>\n",
       "    <tr>\n",
       "      <th>16996</th>\n",
       "      <td>-124.27</td>\n",
       "      <td>40.69</td>\n",
       "      <td>36.0</td>\n",
       "      <td>2349.0</td>\n",
       "      <td>528.0</td>\n",
       "      <td>1194.0</td>\n",
       "      <td>465.0</td>\n",
       "      <td>2.5179</td>\n",
       "      <td>79000.0</td>\n",
       "    </tr>\n",
       "    <tr>\n",
       "      <th>16997</th>\n",
       "      <td>-124.30</td>\n",
       "      <td>41.84</td>\n",
       "      <td>17.0</td>\n",
       "      <td>2677.0</td>\n",
       "      <td>531.0</td>\n",
       "      <td>1244.0</td>\n",
       "      <td>456.0</td>\n",
       "      <td>3.0313</td>\n",
       "      <td>103600.0</td>\n",
       "    </tr>\n",
       "    <tr>\n",
       "      <th>16998</th>\n",
       "      <td>-124.30</td>\n",
       "      <td>41.80</td>\n",
       "      <td>19.0</td>\n",
       "      <td>2672.0</td>\n",
       "      <td>552.0</td>\n",
       "      <td>1298.0</td>\n",
       "      <td>478.0</td>\n",
       "      <td>1.9797</td>\n",
       "      <td>85800.0</td>\n",
       "    </tr>\n",
       "    <tr>\n",
       "      <th>16999</th>\n",
       "      <td>-124.35</td>\n",
       "      <td>40.54</td>\n",
       "      <td>52.0</td>\n",
       "      <td>1820.0</td>\n",
       "      <td>300.0</td>\n",
       "      <td>806.0</td>\n",
       "      <td>270.0</td>\n",
       "      <td>3.0147</td>\n",
       "      <td>94600.0</td>\n",
       "    </tr>\n",
       "  </tbody>\n",
       "</table>\n",
       "<p>17000 rows × 9 columns</p>\n",
       "</div>"
      ],
      "text/plain": [
       "       longitude  latitude  housing_median_age  total_rooms  total_bedrooms  \\\n",
       "0        -114.31     34.19                15.0       5612.0          1283.0   \n",
       "1        -114.47     34.40                19.0       7650.0          1901.0   \n",
       "2        -114.56     33.69                17.0        720.0           174.0   \n",
       "3        -114.57     33.64                14.0       1501.0           337.0   \n",
       "4        -114.57     33.57                20.0       1454.0           326.0   \n",
       "...          ...       ...                 ...          ...             ...   \n",
       "16995    -124.26     40.58                52.0       2217.0           394.0   \n",
       "16996    -124.27     40.69                36.0       2349.0           528.0   \n",
       "16997    -124.30     41.84                17.0       2677.0           531.0   \n",
       "16998    -124.30     41.80                19.0       2672.0           552.0   \n",
       "16999    -124.35     40.54                52.0       1820.0           300.0   \n",
       "\n",
       "       population  households  median_income  median_house_value  \n",
       "0          1015.0       472.0         1.4936             66900.0  \n",
       "1          1129.0       463.0         1.8200             80100.0  \n",
       "2           333.0       117.0         1.6509             85700.0  \n",
       "3           515.0       226.0         3.1917             73400.0  \n",
       "4           624.0       262.0         1.9250             65500.0  \n",
       "...           ...         ...            ...                 ...  \n",
       "16995       907.0       369.0         2.3571            111400.0  \n",
       "16996      1194.0       465.0         2.5179             79000.0  \n",
       "16997      1244.0       456.0         3.0313            103600.0  \n",
       "16998      1298.0       478.0         1.9797             85800.0  \n",
       "16999       806.0       270.0         3.0147             94600.0  \n",
       "\n",
       "[17000 rows x 9 columns]"
      ]
     },
     "execution_count": 13,
     "metadata": {},
     "output_type": "execute_result"
    }
   ],
   "source": [
    "california_housing_dataframe"
   ]
  },
  {
   "cell_type": "markdown",
   "metadata": {
    "colab_type": "text",
    "id": "JEM7xDdHaiHI"
   },
   "source": [
    "# LISTA DE EXERCÍCIOS - PANDAS\n",
    "![image.png](data:image/png;base64,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)"
   ]
  },
  {
   "cell_type": "markdown",
   "metadata": {
    "colab_type": "text",
    "id": "GdjqZsNinrjs"
   },
   "source": [
    "# **Para os exercícios a partir da questão 2, apresente o resultado solicitado para cada enunciado.**\n",
    "Links para consulta\n",
    "\n",
    "[Kaggle](https://www.kaggle.com/)\n",
    "\n",
    "[Pandas](https://pandas.pydata.org/)\n",
    "\n",
    "[Python](https://www.python.org/download/releases/3.0/)\n",
    "\n",
    "[Gooble AI for Computer Vision](https://cloud.google.com/vision)\n",
    "\n",
    "[Azure Microsoft Computer Vision](https://azure.microsoft.com/pt-br/services/cognitive-services/computer-vision/)"
   ]
  },
  {
   "cell_type": "markdown",
   "metadata": {
    "colab_type": "text",
    "id": "99JYRjg9cwpP"
   },
   "source": [
    "## 1 - Busque um dataset (arquivo csv)  no site do kaggle com as seguintes características: \n",
    "\n",
    "#### a - Possuir 1000 registros (mínimo)\n",
    "#### b - Possuir 2 colunas com tipo inteiro (mínimo)"
   ]
  },
  {
   "cell_type": "markdown",
   "metadata": {
    "colab_type": "text",
    "id": "iRnMaI5TdK5P"
   },
   "source": [
    "## 2 - Utilize o pandas para ler o dataset escolhido e armazene em um dataframe chamado df."
   ]
  },
  {
   "cell_type": "code",
   "execution_count": 14,
   "metadata": {
    "colab": {},
    "colab_type": "code",
    "id": "ACU77dN6cvyc"
   },
   "outputs": [],
   "source": [
    "import pandas as pd\n",
    "#link: https://www.kaggle.com/spscientist/students-performance-in-exams\n",
    "df = pd.read_csv('StudentsPerformance.csv')"
   ]
  },
  {
   "cell_type": "markdown",
   "metadata": {
    "colab_type": "text",
    "id": "VXR68BlMdotl"
   },
   "source": [
    "## 3 - Apresente os 10 primeiros registros do dataframe df."
   ]
  },
  {
   "cell_type": "code",
   "execution_count": 15,
   "metadata": {
    "colab": {},
    "colab_type": "code",
    "id": "igAgJ74ld7yn"
   },
   "outputs": [
    {
     "data": {
      "text/html": [
       "<div>\n",
       "<style scoped>\n",
       "    .dataframe tbody tr th:only-of-type {\n",
       "        vertical-align: middle;\n",
       "    }\n",
       "\n",
       "    .dataframe tbody tr th {\n",
       "        vertical-align: top;\n",
       "    }\n",
       "\n",
       "    .dataframe thead th {\n",
       "        text-align: right;\n",
       "    }\n",
       "</style>\n",
       "<table border=\"1\" class=\"dataframe\">\n",
       "  <thead>\n",
       "    <tr style=\"text-align: right;\">\n",
       "      <th></th>\n",
       "      <th>gender</th>\n",
       "      <th>race/ethnicity</th>\n",
       "      <th>parental level of education</th>\n",
       "      <th>lunch</th>\n",
       "      <th>test preparation course</th>\n",
       "      <th>math score</th>\n",
       "      <th>reading score</th>\n",
       "      <th>writing score</th>\n",
       "    </tr>\n",
       "  </thead>\n",
       "  <tbody>\n",
       "    <tr>\n",
       "      <th>0</th>\n",
       "      <td>female</td>\n",
       "      <td>group B</td>\n",
       "      <td>bachelor's degree</td>\n",
       "      <td>standard</td>\n",
       "      <td>none</td>\n",
       "      <td>72</td>\n",
       "      <td>72</td>\n",
       "      <td>74</td>\n",
       "    </tr>\n",
       "    <tr>\n",
       "      <th>1</th>\n",
       "      <td>female</td>\n",
       "      <td>group C</td>\n",
       "      <td>some college</td>\n",
       "      <td>standard</td>\n",
       "      <td>completed</td>\n",
       "      <td>69</td>\n",
       "      <td>90</td>\n",
       "      <td>88</td>\n",
       "    </tr>\n",
       "    <tr>\n",
       "      <th>2</th>\n",
       "      <td>female</td>\n",
       "      <td>group B</td>\n",
       "      <td>master's degree</td>\n",
       "      <td>standard</td>\n",
       "      <td>none</td>\n",
       "      <td>90</td>\n",
       "      <td>95</td>\n",
       "      <td>93</td>\n",
       "    </tr>\n",
       "    <tr>\n",
       "      <th>3</th>\n",
       "      <td>male</td>\n",
       "      <td>group A</td>\n",
       "      <td>associate's degree</td>\n",
       "      <td>free/reduced</td>\n",
       "      <td>none</td>\n",
       "      <td>47</td>\n",
       "      <td>57</td>\n",
       "      <td>44</td>\n",
       "    </tr>\n",
       "    <tr>\n",
       "      <th>4</th>\n",
       "      <td>male</td>\n",
       "      <td>group C</td>\n",
       "      <td>some college</td>\n",
       "      <td>standard</td>\n",
       "      <td>none</td>\n",
       "      <td>76</td>\n",
       "      <td>78</td>\n",
       "      <td>75</td>\n",
       "    </tr>\n",
       "    <tr>\n",
       "      <th>5</th>\n",
       "      <td>female</td>\n",
       "      <td>group B</td>\n",
       "      <td>associate's degree</td>\n",
       "      <td>standard</td>\n",
       "      <td>none</td>\n",
       "      <td>71</td>\n",
       "      <td>83</td>\n",
       "      <td>78</td>\n",
       "    </tr>\n",
       "    <tr>\n",
       "      <th>6</th>\n",
       "      <td>female</td>\n",
       "      <td>group B</td>\n",
       "      <td>some college</td>\n",
       "      <td>standard</td>\n",
       "      <td>completed</td>\n",
       "      <td>88</td>\n",
       "      <td>95</td>\n",
       "      <td>92</td>\n",
       "    </tr>\n",
       "    <tr>\n",
       "      <th>7</th>\n",
       "      <td>male</td>\n",
       "      <td>group B</td>\n",
       "      <td>some college</td>\n",
       "      <td>free/reduced</td>\n",
       "      <td>none</td>\n",
       "      <td>40</td>\n",
       "      <td>43</td>\n",
       "      <td>39</td>\n",
       "    </tr>\n",
       "    <tr>\n",
       "      <th>8</th>\n",
       "      <td>male</td>\n",
       "      <td>group D</td>\n",
       "      <td>high school</td>\n",
       "      <td>free/reduced</td>\n",
       "      <td>completed</td>\n",
       "      <td>64</td>\n",
       "      <td>64</td>\n",
       "      <td>67</td>\n",
       "    </tr>\n",
       "    <tr>\n",
       "      <th>9</th>\n",
       "      <td>female</td>\n",
       "      <td>group B</td>\n",
       "      <td>high school</td>\n",
       "      <td>free/reduced</td>\n",
       "      <td>none</td>\n",
       "      <td>38</td>\n",
       "      <td>60</td>\n",
       "      <td>50</td>\n",
       "    </tr>\n",
       "  </tbody>\n",
       "</table>\n",
       "</div>"
      ],
      "text/plain": [
       "   gender race/ethnicity parental level of education         lunch  \\\n",
       "0  female        group B           bachelor's degree      standard   \n",
       "1  female        group C                some college      standard   \n",
       "2  female        group B             master's degree      standard   \n",
       "3    male        group A          associate's degree  free/reduced   \n",
       "4    male        group C                some college      standard   \n",
       "5  female        group B          associate's degree      standard   \n",
       "6  female        group B                some college      standard   \n",
       "7    male        group B                some college  free/reduced   \n",
       "8    male        group D                 high school  free/reduced   \n",
       "9  female        group B                 high school  free/reduced   \n",
       "\n",
       "  test preparation course  math score  reading score  writing score  \n",
       "0                    none          72             72             74  \n",
       "1               completed          69             90             88  \n",
       "2                    none          90             95             93  \n",
       "3                    none          47             57             44  \n",
       "4                    none          76             78             75  \n",
       "5                    none          71             83             78  \n",
       "6               completed          88             95             92  \n",
       "7                    none          40             43             39  \n",
       "8               completed          64             64             67  \n",
       "9                    none          38             60             50  "
      ]
     },
     "execution_count": 15,
     "metadata": {},
     "output_type": "execute_result"
    }
   ],
   "source": [
    "df.head(10)"
   ]
  },
  {
   "cell_type": "markdown",
   "metadata": {
    "colab_type": "text",
    "id": "GZB8drPneBQW"
   },
   "source": [
    "## 4 - Apresente os 10 últimos registros do dataframe df."
   ]
  },
  {
   "cell_type": "code",
   "execution_count": 16,
   "metadata": {
    "colab": {},
    "colab_type": "code",
    "id": "H5-qYBLQfQhu"
   },
   "outputs": [
    {
     "data": {
      "text/html": [
       "<div>\n",
       "<style scoped>\n",
       "    .dataframe tbody tr th:only-of-type {\n",
       "        vertical-align: middle;\n",
       "    }\n",
       "\n",
       "    .dataframe tbody tr th {\n",
       "        vertical-align: top;\n",
       "    }\n",
       "\n",
       "    .dataframe thead th {\n",
       "        text-align: right;\n",
       "    }\n",
       "</style>\n",
       "<table border=\"1\" class=\"dataframe\">\n",
       "  <thead>\n",
       "    <tr style=\"text-align: right;\">\n",
       "      <th></th>\n",
       "      <th>gender</th>\n",
       "      <th>race/ethnicity</th>\n",
       "      <th>parental level of education</th>\n",
       "      <th>lunch</th>\n",
       "      <th>test preparation course</th>\n",
       "      <th>math score</th>\n",
       "      <th>reading score</th>\n",
       "      <th>writing score</th>\n",
       "    </tr>\n",
       "  </thead>\n",
       "  <tbody>\n",
       "    <tr>\n",
       "      <th>990</th>\n",
       "      <td>male</td>\n",
       "      <td>group E</td>\n",
       "      <td>high school</td>\n",
       "      <td>free/reduced</td>\n",
       "      <td>completed</td>\n",
       "      <td>86</td>\n",
       "      <td>81</td>\n",
       "      <td>75</td>\n",
       "    </tr>\n",
       "    <tr>\n",
       "      <th>991</th>\n",
       "      <td>female</td>\n",
       "      <td>group B</td>\n",
       "      <td>some high school</td>\n",
       "      <td>standard</td>\n",
       "      <td>completed</td>\n",
       "      <td>65</td>\n",
       "      <td>82</td>\n",
       "      <td>78</td>\n",
       "    </tr>\n",
       "    <tr>\n",
       "      <th>992</th>\n",
       "      <td>female</td>\n",
       "      <td>group D</td>\n",
       "      <td>associate's degree</td>\n",
       "      <td>free/reduced</td>\n",
       "      <td>none</td>\n",
       "      <td>55</td>\n",
       "      <td>76</td>\n",
       "      <td>76</td>\n",
       "    </tr>\n",
       "    <tr>\n",
       "      <th>993</th>\n",
       "      <td>female</td>\n",
       "      <td>group D</td>\n",
       "      <td>bachelor's degree</td>\n",
       "      <td>free/reduced</td>\n",
       "      <td>none</td>\n",
       "      <td>62</td>\n",
       "      <td>72</td>\n",
       "      <td>74</td>\n",
       "    </tr>\n",
       "    <tr>\n",
       "      <th>994</th>\n",
       "      <td>male</td>\n",
       "      <td>group A</td>\n",
       "      <td>high school</td>\n",
       "      <td>standard</td>\n",
       "      <td>none</td>\n",
       "      <td>63</td>\n",
       "      <td>63</td>\n",
       "      <td>62</td>\n",
       "    </tr>\n",
       "    <tr>\n",
       "      <th>995</th>\n",
       "      <td>female</td>\n",
       "      <td>group E</td>\n",
       "      <td>master's degree</td>\n",
       "      <td>standard</td>\n",
       "      <td>completed</td>\n",
       "      <td>88</td>\n",
       "      <td>99</td>\n",
       "      <td>95</td>\n",
       "    </tr>\n",
       "    <tr>\n",
       "      <th>996</th>\n",
       "      <td>male</td>\n",
       "      <td>group C</td>\n",
       "      <td>high school</td>\n",
       "      <td>free/reduced</td>\n",
       "      <td>none</td>\n",
       "      <td>62</td>\n",
       "      <td>55</td>\n",
       "      <td>55</td>\n",
       "    </tr>\n",
       "    <tr>\n",
       "      <th>997</th>\n",
       "      <td>female</td>\n",
       "      <td>group C</td>\n",
       "      <td>high school</td>\n",
       "      <td>free/reduced</td>\n",
       "      <td>completed</td>\n",
       "      <td>59</td>\n",
       "      <td>71</td>\n",
       "      <td>65</td>\n",
       "    </tr>\n",
       "    <tr>\n",
       "      <th>998</th>\n",
       "      <td>female</td>\n",
       "      <td>group D</td>\n",
       "      <td>some college</td>\n",
       "      <td>standard</td>\n",
       "      <td>completed</td>\n",
       "      <td>68</td>\n",
       "      <td>78</td>\n",
       "      <td>77</td>\n",
       "    </tr>\n",
       "    <tr>\n",
       "      <th>999</th>\n",
       "      <td>female</td>\n",
       "      <td>group D</td>\n",
       "      <td>some college</td>\n",
       "      <td>free/reduced</td>\n",
       "      <td>none</td>\n",
       "      <td>77</td>\n",
       "      <td>86</td>\n",
       "      <td>86</td>\n",
       "    </tr>\n",
       "  </tbody>\n",
       "</table>\n",
       "</div>"
      ],
      "text/plain": [
       "     gender race/ethnicity parental level of education         lunch  \\\n",
       "990    male        group E                 high school  free/reduced   \n",
       "991  female        group B            some high school      standard   \n",
       "992  female        group D          associate's degree  free/reduced   \n",
       "993  female        group D           bachelor's degree  free/reduced   \n",
       "994    male        group A                 high school      standard   \n",
       "995  female        group E             master's degree      standard   \n",
       "996    male        group C                 high school  free/reduced   \n",
       "997  female        group C                 high school  free/reduced   \n",
       "998  female        group D                some college      standard   \n",
       "999  female        group D                some college  free/reduced   \n",
       "\n",
       "    test preparation course  math score  reading score  writing score  \n",
       "990               completed          86             81             75  \n",
       "991               completed          65             82             78  \n",
       "992                    none          55             76             76  \n",
       "993                    none          62             72             74  \n",
       "994                    none          63             63             62  \n",
       "995               completed          88             99             95  \n",
       "996                    none          62             55             55  \n",
       "997               completed          59             71             65  \n",
       "998               completed          68             78             77  \n",
       "999                    none          77             86             86  "
      ]
     },
     "execution_count": 16,
     "metadata": {},
     "output_type": "execute_result"
    }
   ],
   "source": [
    "df.tail(10)"
   ]
  },
  {
   "cell_type": "markdown",
   "metadata": {
    "colab_type": "text",
    "id": "xLJ0E1l_fRVJ"
   },
   "source": [
    "## 5 - Apresente um histograma para uma coluna que possua valores inteiros do dataframe df."
   ]
  },
  {
   "cell_type": "code",
   "execution_count": 17,
   "metadata": {
    "colab": {},
    "colab_type": "code",
    "id": "txRxSRw6fjs6"
   },
   "outputs": [
    {
     "data": {
      "text/plain": [
       "array([[<matplotlib.axes._subplots.AxesSubplot object at 0x000001E22DB05748>]],\n",
       "      dtype=object)"
      ]
     },
     "execution_count": 17,
     "metadata": {},
     "output_type": "execute_result"
    },
    {
     "data": {
      "image/png": "[encoded data removed]",
      "text/plain": [
       "<Figure size 432x288 with 1 Axes>"
      ]
     },
     "metadata": {
      "needs_background": "light"
     },
     "output_type": "display_data"
    }
   ],
   "source": [
    "df.hist('math score')"
   ]
  },
  {
   "cell_type": "markdown",
   "metadata": {
    "colab_type": "text",
    "id": "6nLjmO6KfnPZ"
   },
   "source": [
    "## 6 - Filtre alguns registros / linhas do dataframe df e armazene em um outro dataframe chamado df2. \n",
    "\n",
    "### OBS: O filtro da condição fica a ser critério."
   ]
  },
  {
   "cell_type": "code",
   "execution_count": 18,
   "metadata": {
    "colab": {},
    "colab_type": "code",
    "id": "6BUPHseQl_kd"
   },
   "outputs": [
    {
     "data": {
      "text/html": [
       "<div>\n",
       "<style scoped>\n",
       "    .dataframe tbody tr th:only-of-type {\n",
       "        vertical-align: middle;\n",
       "    }\n",
       "\n",
       "    .dataframe tbody tr th {\n",
       "        vertical-align: top;\n",
       "    }\n",
       "\n",
       "    .dataframe thead th {\n",
       "        text-align: right;\n",
       "    }\n",
       "</style>\n",
       "<table border=\"1\" class=\"dataframe\">\n",
       "  <thead>\n",
       "    <tr style=\"text-align: right;\">\n",
       "      <th></th>\n",
       "      <th>parental level of education</th>\n",
       "      <th>math score</th>\n",
       "      <th>reading score</th>\n",
       "      <th>writing score</th>\n",
       "    </tr>\n",
       "  </thead>\n",
       "  <tbody>\n",
       "    <tr>\n",
       "      <th>0</th>\n",
       "      <td>bachelor's degree</td>\n",
       "      <td>72</td>\n",
       "      <td>72</td>\n",
       "      <td>74</td>\n",
       "    </tr>\n",
       "    <tr>\n",
       "      <th>1</th>\n",
       "      <td>some college</td>\n",
       "      <td>69</td>\n",
       "      <td>90</td>\n",
       "      <td>88</td>\n",
       "    </tr>\n",
       "    <tr>\n",
       "      <th>2</th>\n",
       "      <td>master's degree</td>\n",
       "      <td>90</td>\n",
       "      <td>95</td>\n",
       "      <td>93</td>\n",
       "    </tr>\n",
       "    <tr>\n",
       "      <th>3</th>\n",
       "      <td>associate's degree</td>\n",
       "      <td>47</td>\n",
       "      <td>57</td>\n",
       "      <td>44</td>\n",
       "    </tr>\n",
       "    <tr>\n",
       "      <th>4</th>\n",
       "      <td>some college</td>\n",
       "      <td>76</td>\n",
       "      <td>78</td>\n",
       "      <td>75</td>\n",
       "    </tr>\n",
       "  </tbody>\n",
       "</table>\n",
       "</div>"
      ],
      "text/plain": [
       "  parental level of education  math score  reading score  writing score\n",
       "0           bachelor's degree          72             72             74\n",
       "1                some college          69             90             88\n",
       "2             master's degree          90             95             93\n",
       "3          associate's degree          47             57             44\n",
       "4                some college          76             78             75"
      ]
     },
     "execution_count": 18,
     "metadata": {},
     "output_type": "execute_result"
    }
   ],
   "source": [
    "df2 = df[['parental level of education', 'math score', 'reading score', 'writing score']]\n",
    "df2.head()"
   ]
  },
  {
   "cell_type": "markdown",
   "metadata": {
    "colab_type": "text",
    "id": "gBLEkKMamevx"
   },
   "source": [
    "## 7 - Exclua uma coluna do dataframe df."
   ]
  },
  {
   "cell_type": "code",
   "execution_count": 19,
   "metadata": {
    "colab": {},
    "colab_type": "code",
    "id": "sZoMZCUIoOhm"
   },
   "outputs": [
    {
     "data": {
      "text/html": [
       "<div>\n",
       "<style scoped>\n",
       "    .dataframe tbody tr th:only-of-type {\n",
       "        vertical-align: middle;\n",
       "    }\n",
       "\n",
       "    .dataframe tbody tr th {\n",
       "        vertical-align: top;\n",
       "    }\n",
       "\n",
       "    .dataframe thead th {\n",
       "        text-align: right;\n",
       "    }\n",
       "</style>\n",
       "<table border=\"1\" class=\"dataframe\">\n",
       "  <thead>\n",
       "    <tr style=\"text-align: right;\">\n",
       "      <th></th>\n",
       "      <th>gender</th>\n",
       "      <th>parental level of education</th>\n",
       "      <th>lunch</th>\n",
       "      <th>test preparation course</th>\n",
       "      <th>math score</th>\n",
       "      <th>reading score</th>\n",
       "      <th>writing score</th>\n",
       "    </tr>\n",
       "  </thead>\n",
       "  <tbody>\n",
       "    <tr>\n",
       "      <th>0</th>\n",
       "      <td>female</td>\n",
       "      <td>bachelor's degree</td>\n",
       "      <td>standard</td>\n",
       "      <td>none</td>\n",
       "      <td>72</td>\n",
       "      <td>72</td>\n",
       "      <td>74</td>\n",
       "    </tr>\n",
       "    <tr>\n",
       "      <th>1</th>\n",
       "      <td>female</td>\n",
       "      <td>some college</td>\n",
       "      <td>standard</td>\n",
       "      <td>completed</td>\n",
       "      <td>69</td>\n",
       "      <td>90</td>\n",
       "      <td>88</td>\n",
       "    </tr>\n",
       "    <tr>\n",
       "      <th>2</th>\n",
       "      <td>female</td>\n",
       "      <td>master's degree</td>\n",
       "      <td>standard</td>\n",
       "      <td>none</td>\n",
       "      <td>90</td>\n",
       "      <td>95</td>\n",
       "      <td>93</td>\n",
       "    </tr>\n",
       "    <tr>\n",
       "      <th>3</th>\n",
       "      <td>male</td>\n",
       "      <td>associate's degree</td>\n",
       "      <td>free/reduced</td>\n",
       "      <td>none</td>\n",
       "      <td>47</td>\n",
       "      <td>57</td>\n",
       "      <td>44</td>\n",
       "    </tr>\n",
       "    <tr>\n",
       "      <th>4</th>\n",
       "      <td>male</td>\n",
       "      <td>some college</td>\n",
       "      <td>standard</td>\n",
       "      <td>none</td>\n",
       "      <td>76</td>\n",
       "      <td>78</td>\n",
       "      <td>75</td>\n",
       "    </tr>\n",
       "  </tbody>\n",
       "</table>\n",
       "</div>"
      ],
      "text/plain": [
       "   gender parental level of education         lunch test preparation course  \\\n",
       "0  female           bachelor's degree      standard                    none   \n",
       "1  female                some college      standard               completed   \n",
       "2  female             master's degree      standard                    none   \n",
       "3    male          associate's degree  free/reduced                    none   \n",
       "4    male                some college      standard                    none   \n",
       "\n",
       "   math score  reading score  writing score  \n",
       "0          72             72             74  \n",
       "1          69             90             88  \n",
       "2          90             95             93  \n",
       "3          47             57             44  \n",
       "4          76             78             75  "
      ]
     },
     "execution_count": 19,
     "metadata": {},
     "output_type": "execute_result"
    }
   ],
   "source": [
    "df = df.drop(columns=['race/ethnicity'])\n",
    "df.head()"
   ]
  },
  {
   "cell_type": "markdown",
   "metadata": {
    "colab_type": "text",
    "id": "SLYf0ppvoPVW"
   },
   "source": [
    "## 8 - Exclua duas colunas do dataframe df."
   ]
  },
  {
   "cell_type": "code",
   "execution_count": 20,
   "metadata": {
    "colab": {},
    "colab_type": "code",
    "id": "bynt9ZqpowkP"
   },
   "outputs": [
    {
     "data": {
      "text/html": [
       "<div>\n",
       "<style scoped>\n",
       "    .dataframe tbody tr th:only-of-type {\n",
       "        vertical-align: middle;\n",
       "    }\n",
       "\n",
       "    .dataframe tbody tr th {\n",
       "        vertical-align: top;\n",
       "    }\n",
       "\n",
       "    .dataframe thead th {\n",
       "        text-align: right;\n",
       "    }\n",
       "</style>\n",
       "<table border=\"1\" class=\"dataframe\">\n",
       "  <thead>\n",
       "    <tr style=\"text-align: right;\">\n",
       "      <th></th>\n",
       "      <th>parental level of education</th>\n",
       "      <th>test preparation course</th>\n",
       "      <th>math score</th>\n",
       "      <th>reading score</th>\n",
       "      <th>writing score</th>\n",
       "    </tr>\n",
       "  </thead>\n",
       "  <tbody>\n",
       "    <tr>\n",
       "      <th>0</th>\n",
       "      <td>bachelor's degree</td>\n",
       "      <td>none</td>\n",
       "      <td>72</td>\n",
       "      <td>72</td>\n",
       "      <td>74</td>\n",
       "    </tr>\n",
       "    <tr>\n",
       "      <th>1</th>\n",
       "      <td>some college</td>\n",
       "      <td>completed</td>\n",
       "      <td>69</td>\n",
       "      <td>90</td>\n",
       "      <td>88</td>\n",
       "    </tr>\n",
       "    <tr>\n",
       "      <th>2</th>\n",
       "      <td>master's degree</td>\n",
       "      <td>none</td>\n",
       "      <td>90</td>\n",
       "      <td>95</td>\n",
       "      <td>93</td>\n",
       "    </tr>\n",
       "    <tr>\n",
       "      <th>3</th>\n",
       "      <td>associate's degree</td>\n",
       "      <td>none</td>\n",
       "      <td>47</td>\n",
       "      <td>57</td>\n",
       "      <td>44</td>\n",
       "    </tr>\n",
       "    <tr>\n",
       "      <th>4</th>\n",
       "      <td>some college</td>\n",
       "      <td>none</td>\n",
       "      <td>76</td>\n",
       "      <td>78</td>\n",
       "      <td>75</td>\n",
       "    </tr>\n",
       "  </tbody>\n",
       "</table>\n",
       "</div>"
      ],
      "text/plain": [
       "  parental level of education test preparation course  math score  \\\n",
       "0           bachelor's degree                    none          72   \n",
       "1                some college               completed          69   \n",
       "2             master's degree                    none          90   \n",
       "3          associate's degree                    none          47   \n",
       "4                some college                    none          76   \n",
       "\n",
       "   reading score  writing score  \n",
       "0             72             74  \n",
       "1             90             88  \n",
       "2             95             93  \n",
       "3             57             44  \n",
       "4             78             75  "
      ]
     },
     "execution_count": 20,
     "metadata": {},
     "output_type": "execute_result"
    }
   ],
   "source": [
    "df = df.drop(columns=['gender', 'lunch'])\n",
    "df.head()"
   ]
  },
  {
   "cell_type": "markdown",
   "metadata": {
    "colab_type": "text",
    "id": "_iQw974xpQni"
   },
   "source": [
    "## 9 - Extraia uma coluna do dataframe df e armazene em uma serie chamada s1."
   ]
  },
  {
   "cell_type": "code",
   "execution_count": 21,
   "metadata": {},
   "outputs": [
    {
     "data": {
      "text/plain": [
       "0    math score\n",
       "dtype: object"
      ]
     },
     "execution_count": 21,
     "metadata": {},
     "output_type": "execute_result"
    }
   ],
   "source": [
    "s1 = pd.Series(['math score'])\n",
    "s1"
   ]
  },
  {
   "cell_type": "markdown",
   "metadata": {
    "colab_type": "text",
    "id": "B0-9tdozqo6c"
   },
   "source": [
    "## 10 - Busque por uma imagem em algum site de busca, faça upload para o colab e utilize algum comando python para carregar e apresentar na tela."
   ]
  },
  {
   "cell_type": "code",
   "execution_count": 22,
   "metadata": {
    "colab": {},
    "colab_type": "code",
    "id": "0UkphDhVq4wl"
   },
   "outputs": [
    {
     "data": {
      "text/plain": [
       "<matplotlib.image.AxesImage at 0x1e22c0774c8>"
      ]
     },
     "execution_count": 22,
     "metadata": {},
     "output_type": "execute_result"
    },
    {
     "data": {
      "image/png": "[encoded data removed]",
      "text/plain": [
       "<Figure size 432x288 with 1 Axes>"
      ]
     },
     "metadata": {
      "needs_background": "light"
     },
     "output_type": "display_data"
    }
   ],
   "source": [
    "import matplotlib.pyplot as plt\n",
    "img = plt.imread('img.jpg')\n",
    "plt.imshow(img)"
   ]
  },
  {
   "cell_type": "markdown",
   "metadata": {
    "colab_type": "text",
    "id": "gXwJivTKtqjq"
   },
   "source": [
    "## 11 - Crie um dataframe com as seguintes características:\n",
    "\n",
    "\n",
    "### a - 4 colunas, respectivamente  nomeadas  como : id, nome, cargo e salário.\n",
    "\n",
    "### b - 6 registros (linhas) preenchidas de acordo com as colunas do item a.\n",
    "\n",
    "### c - Dois salários deverão ser superiores a R1000,00 o restante inferior a R100,00\n",
    "\n",
    "\n",
    "\n",
    "\n"
   ]
  },
  {
   "cell_type": "code",
   "execution_count": 10,
   "metadata": {
    "colab": {},
    "colab_type": "code",
    "id": "NC8GIMr3uxsh"
   },
   "outputs": [
    {
     "data": {
      "text/html": [
       "<div>\n",
       "<style scoped>\n",
       "    .dataframe tbody tr th:only-of-type {\n",
       "        vertical-align: middle;\n",
       "    }\n",
       "\n",
       "    .dataframe tbody tr th {\n",
       "        vertical-align: top;\n",
       "    }\n",
       "\n",
       "    .dataframe thead th {\n",
       "        text-align: right;\n",
       "    }\n",
       "</style>\n",
       "<table border=\"1\" class=\"dataframe\">\n",
       "  <thead>\n",
       "    <tr style=\"text-align: right;\">\n",
       "      <th></th>\n",
       "      <th>id</th>\n",
       "      <th>nome</th>\n",
       "      <th>cargo</th>\n",
       "      <th>salario</th>\n",
       "    </tr>\n",
       "  </thead>\n",
       "  <tbody>\n",
       "    <tr>\n",
       "      <th>0</th>\n",
       "      <td>0</td>\n",
       "      <td>Carlos</td>\n",
       "      <td>Engenheiro</td>\n",
       "      <td>1500</td>\n",
       "    </tr>\n",
       "    <tr>\n",
       "      <th>1</th>\n",
       "      <td>1</td>\n",
       "      <td>Joao</td>\n",
       "      <td>Analista ambiental</td>\n",
       "      <td>2000</td>\n",
       "    </tr>\n",
       "    <tr>\n",
       "      <th>2</th>\n",
       "      <td>2</td>\n",
       "      <td>Maria</td>\n",
       "      <td>Apicultora</td>\n",
       "      <td>50</td>\n",
       "    </tr>\n",
       "    <tr>\n",
       "      <th>3</th>\n",
       "      <td>3</td>\n",
       "      <td>Samara</td>\n",
       "      <td>Autonomo</td>\n",
       "      <td>90</td>\n",
       "    </tr>\n",
       "    <tr>\n",
       "      <th>4</th>\n",
       "      <td>4</td>\n",
       "      <td>Pablo</td>\n",
       "      <td>Agricultor</td>\n",
       "      <td>30</td>\n",
       "    </tr>\n",
       "    <tr>\n",
       "      <th>5</th>\n",
       "      <td>5</td>\n",
       "      <td>Escobar</td>\n",
       "      <td>Medico</td>\n",
       "      <td>20</td>\n",
       "    </tr>\n",
       "  </tbody>\n",
       "</table>\n",
       "</div>"
      ],
      "text/plain": [
       "   id     nome               cargo  salario\n",
       "0   0   Carlos          Engenheiro     1500\n",
       "1   1     Joao  Analista ambiental     2000\n",
       "2   2    Maria          Apicultora       50\n",
       "3   3   Samara            Autonomo       90\n",
       "4   4    Pablo          Agricultor       30\n",
       "5   5  Escobar              Medico       20"
      ]
     },
     "execution_count": 10,
     "metadata": {},
     "output_type": "execute_result"
    }
   ],
   "source": [
    "dataframe = {'id':[0,1,2,3,4,5],\n",
    "            'nome':['Carlos','Joao','Maria','Samara','Pablo','Escobar'],\n",
    "            'cargo': ['Engenheiro','Analista ambiental','Apicultora','Autonomo','Agricultor','Medico'],\n",
    "            'salario': [1500,2000,50,90,30,20]}\n",
    "pd.DataFrame(dataframe)"
   ]
  },
  {
   "cell_type": "markdown",
   "metadata": {
    "colab_type": "text",
    "id": "OFu2X-jO2MEG"
   },
   "source": [
    "# **Considere os dataframes abaixo para resolver os próximos exercícios**\n",
    "\n",
    "\n",
    "     \n",
    "## **Dataframe Aluno**\n",
    "Colunas:\n",
    "\n",
    "\n",
    "*   Matrícula: Valor único que identifica cada aluno.\n",
    "*   Nome: Nome do aluno.\n",
    "*   Sexo: Gênero incluído pelo aluno durante o cadastro.\n",
    "\n",
    "\n",
    "|             |      Dataframe Aluno |       |\n",
    "|:---------:\t|:-----------------------:\t|:----:\t|\n",
    "\n",
    "| Matricula \t|        Nome       \t| Sexo \t|\n",
    "|:---------:\t|:-----------------------:\t|:----:\t|\n",
    "|    123    \t|         Jose        \t|  Masculino  \t|\n",
    "|    134    \t|       Maria       \t|  Feminino \t|\n",
    "|    812    \t|       João       \t|  Masculino  \t|\n",
    "|    991    \t| Camila \t|  Feminino  \t|  \n",
    "\n",
    "\n",
    "\n",
    "\n",
    "## **Dataframe Desempenho**\n",
    "Colunas:\n",
    "\n",
    "\n",
    "*   Matrícula: Valor único que identifica cada aluno.\n",
    "*   Disciplina: Nome da disciplina que o aluno cursou.\n",
    "*   Nota: Nota atribuída que o aluno obteve na disciplina.\n",
    "\n",
    "\n",
    "|             |      Dataframe Desempenho |       |\n",
    "|:---------:\t|:-----------------------:\t|:----:\t|\n",
    "\n",
    "| Matricula \t|        Disciplina       \t| Nota \t|\n",
    "|:---------:\t|:-----------------------:\t|:----:\t|\n",
    "|    123    \t|         Cálculo         \t|  69  \t|\n",
    "|    134    \t|       Programação       \t|  100 \t|\n",
    "|    812    \t|       Programação       \t|  98  \t|\n",
    "|    991    \t| Inteligência Artificial \t|  67  \t|       \n",
    "\n"
   ]
  },
  {
   "cell_type": "markdown",
   "metadata": {
    "colab_type": "text",
    "id": "-tEkPh3EAS_E"
   },
   "source": [
    "## 12 - Construa os dataframes Aluno e Desempenho e armazene, respectivamente nas variáveis df_aluno e df_desempenho."
   ]
  },
  {
   "cell_type": "code",
   "execution_count": 14,
   "metadata": {
    "colab": {},
    "colab_type": "code",
    "id": "Jzw8t5WCA8qu"
   },
   "outputs": [],
   "source": [
    "dataframe_a = {'matricula': [123, 134, 812, 991],\n",
    "             'nome': ['Jose', 'Maria', 'João', 'Camila'],\n",
    "             'sexo': ['Masculino','Feminino','Masculino','Feminino']}\n",
    "df_aluno = pd.DataFrame(dataframe_a) \n",
    "\n",
    "dataframe_b = {'matricula': [123, 134, 812, 991],\n",
    "             'disciplina': ['calculo', 'programacao', 'programacao', 'inteligencia artificial'],\n",
    "             'nota': [69, 100, 98, 67]}\n",
    "df_desempenho = pd.DataFrame(dataframe_b) "
   ]
  },
  {
   "cell_type": "code",
   "execution_count": 15,
   "metadata": {},
   "outputs": [
    {
     "data": {
      "text/html": [
       "<div>\n",
       "<style scoped>\n",
       "    .dataframe tbody tr th:only-of-type {\n",
       "        vertical-align: middle;\n",
       "    }\n",
       "\n",
       "    .dataframe tbody tr th {\n",
       "        vertical-align: top;\n",
       "    }\n",
       "\n",
       "    .dataframe thead th {\n",
       "        text-align: right;\n",
       "    }\n",
       "</style>\n",
       "<table border=\"1\" class=\"dataframe\">\n",
       "  <thead>\n",
       "    <tr style=\"text-align: right;\">\n",
       "      <th></th>\n",
       "      <th>matricula</th>\n",
       "      <th>nome</th>\n",
       "      <th>sexo</th>\n",
       "    </tr>\n",
       "  </thead>\n",
       "  <tbody>\n",
       "    <tr>\n",
       "      <th>0</th>\n",
       "      <td>123</td>\n",
       "      <td>Jose</td>\n",
       "      <td>Masculino</td>\n",
       "    </tr>\n",
       "    <tr>\n",
       "      <th>1</th>\n",
       "      <td>134</td>\n",
       "      <td>Maria</td>\n",
       "      <td>Feminino</td>\n",
       "    </tr>\n",
       "    <tr>\n",
       "      <th>2</th>\n",
       "      <td>812</td>\n",
       "      <td>João</td>\n",
       "      <td>Masculino</td>\n",
       "    </tr>\n",
       "    <tr>\n",
       "      <th>3</th>\n",
       "      <td>991</td>\n",
       "      <td>Camila</td>\n",
       "      <td>Feminino</td>\n",
       "    </tr>\n",
       "  </tbody>\n",
       "</table>\n",
       "</div>"
      ],
      "text/plain": [
       "   matricula    nome       sexo\n",
       "0        123    Jose  Masculino\n",
       "1        134   Maria   Feminino\n",
       "2        812    João  Masculino\n",
       "3        991  Camila   Feminino"
      ]
     },
     "execution_count": 15,
     "metadata": {},
     "output_type": "execute_result"
    }
   ],
   "source": [
    "df_aluno"
   ]
  },
  {
   "cell_type": "code",
   "execution_count": 16,
   "metadata": {},
   "outputs": [
    {
     "data": {
      "text/html": [
       "<div>\n",
       "<style scoped>\n",
       "    .dataframe tbody tr th:only-of-type {\n",
       "        vertical-align: middle;\n",
       "    }\n",
       "\n",
       "    .dataframe tbody tr th {\n",
       "        vertical-align: top;\n",
       "    }\n",
       "\n",
       "    .dataframe thead th {\n",
       "        text-align: right;\n",
       "    }\n",
       "</style>\n",
       "<table border=\"1\" class=\"dataframe\">\n",
       "  <thead>\n",
       "    <tr style=\"text-align: right;\">\n",
       "      <th></th>\n",
       "      <th>matricula</th>\n",
       "      <th>disciplina</th>\n",
       "      <th>nota</th>\n",
       "    </tr>\n",
       "  </thead>\n",
       "  <tbody>\n",
       "    <tr>\n",
       "      <th>0</th>\n",
       "      <td>123</td>\n",
       "      <td>calculo</td>\n",
       "      <td>69</td>\n",
       "    </tr>\n",
       "    <tr>\n",
       "      <th>1</th>\n",
       "      <td>134</td>\n",
       "      <td>programacao</td>\n",
       "      <td>100</td>\n",
       "    </tr>\n",
       "    <tr>\n",
       "      <th>2</th>\n",
       "      <td>812</td>\n",
       "      <td>programacao</td>\n",
       "      <td>98</td>\n",
       "    </tr>\n",
       "    <tr>\n",
       "      <th>3</th>\n",
       "      <td>991</td>\n",
       "      <td>inteligencia artificial</td>\n",
       "      <td>67</td>\n",
       "    </tr>\n",
       "  </tbody>\n",
       "</table>\n",
       "</div>"
      ],
      "text/plain": [
       "   matricula               disciplina  nota\n",
       "0        123                  calculo    69\n",
       "1        134              programacao   100\n",
       "2        812              programacao    98\n",
       "3        991  inteligencia artificial    67"
      ]
     },
     "execution_count": 16,
     "metadata": {},
     "output_type": "execute_result"
    }
   ],
   "source": [
    "df_desempenho"
   ]
  },
  {
   "cell_type": "markdown",
   "metadata": {
    "colab_type": "text",
    "id": "dMqS4vKXA9T2"
   },
   "source": [
    "## 13 - Crie um dataframe contendo a matricula, nome e disciplinas de cada aluno."
   ]
  },
  {
   "cell_type": "code",
   "execution_count": 26,
   "metadata": {},
   "outputs": [
    {
     "data": {
      "text/html": [
       "<div>\n",
       "<style scoped>\n",
       "    .dataframe tbody tr th:only-of-type {\n",
       "        vertical-align: middle;\n",
       "    }\n",
       "\n",
       "    .dataframe tbody tr th {\n",
       "        vertical-align: top;\n",
       "    }\n",
       "\n",
       "    .dataframe thead th {\n",
       "        text-align: right;\n",
       "    }\n",
       "</style>\n",
       "<table border=\"1\" class=\"dataframe\">\n",
       "  <thead>\n",
       "    <tr style=\"text-align: right;\">\n",
       "      <th></th>\n",
       "      <th>matricula</th>\n",
       "      <th>nome</th>\n",
       "      <th>disciplina</th>\n",
       "    </tr>\n",
       "  </thead>\n",
       "  <tbody>\n",
       "    <tr>\n",
       "      <th>0</th>\n",
       "      <td>123</td>\n",
       "      <td>Jose</td>\n",
       "      <td>calculo</td>\n",
       "    </tr>\n",
       "    <tr>\n",
       "      <th>1</th>\n",
       "      <td>134</td>\n",
       "      <td>Maria</td>\n",
       "      <td>programacao</td>\n",
       "    </tr>\n",
       "    <tr>\n",
       "      <th>2</th>\n",
       "      <td>812</td>\n",
       "      <td>João</td>\n",
       "      <td>programacao</td>\n",
       "    </tr>\n",
       "    <tr>\n",
       "      <th>3</th>\n",
       "      <td>991</td>\n",
       "      <td>Camila</td>\n",
       "      <td>inteligencia artificial</td>\n",
       "    </tr>\n",
       "  </tbody>\n",
       "</table>\n",
       "</div>"
      ],
      "text/plain": [
       "   matricula    nome               disciplina\n",
       "0        123    Jose                  calculo\n",
       "1        134   Maria              programacao\n",
       "2        812    João              programacao\n",
       "3        991  Camila  inteligencia artificial"
      ]
     },
     "execution_count": 26,
     "metadata": {},
     "output_type": "execute_result"
    }
   ],
   "source": [
    "pd.DataFrame.join(df_aluno[['matricula','nome']], df_desempenho[['disciplina']])"
   ]
  },
  {
   "cell_type": "markdown",
   "metadata": {
    "colab_type": "text",
    "id": "bVWxW0EwD2db"
   },
   "source": [
    "## 14 - Combine os dataframes aluno e desempenho e partir disso, crie um dataframe contendo matrícula e nome dos alunos que possuem  uma nota superior a 70."
   ]
  },
  {
   "cell_type": "code",
   "execution_count": 27,
   "metadata": {
    "colab": {},
    "colab_type": "code",
    "id": "cY6s6iUEEdlS"
   },
   "outputs": [
    {
     "data": {
      "text/html": [
       "<div>\n",
       "<style scoped>\n",
       "    .dataframe tbody tr th:only-of-type {\n",
       "        vertical-align: middle;\n",
       "    }\n",
       "\n",
       "    .dataframe tbody tr th {\n",
       "        vertical-align: top;\n",
       "    }\n",
       "\n",
       "    .dataframe thead th {\n",
       "        text-align: right;\n",
       "    }\n",
       "</style>\n",
       "<table border=\"1\" class=\"dataframe\">\n",
       "  <thead>\n",
       "    <tr style=\"text-align: right;\">\n",
       "      <th></th>\n",
       "      <th>matricula</th>\n",
       "      <th>nome</th>\n",
       "      <th>sexo</th>\n",
       "      <th>disciplina</th>\n",
       "      <th>nota</th>\n",
       "    </tr>\n",
       "  </thead>\n",
       "  <tbody>\n",
       "    <tr>\n",
       "      <th>0</th>\n",
       "      <td>123</td>\n",
       "      <td>Jose</td>\n",
       "      <td>Masculino</td>\n",
       "      <td>calculo</td>\n",
       "      <td>69</td>\n",
       "    </tr>\n",
       "    <tr>\n",
       "      <th>1</th>\n",
       "      <td>134</td>\n",
       "      <td>Maria</td>\n",
       "      <td>Feminino</td>\n",
       "      <td>programacao</td>\n",
       "      <td>100</td>\n",
       "    </tr>\n",
       "    <tr>\n",
       "      <th>2</th>\n",
       "      <td>812</td>\n",
       "      <td>João</td>\n",
       "      <td>Masculino</td>\n",
       "      <td>programacao</td>\n",
       "      <td>98</td>\n",
       "    </tr>\n",
       "    <tr>\n",
       "      <th>3</th>\n",
       "      <td>991</td>\n",
       "      <td>Camila</td>\n",
       "      <td>Feminino</td>\n",
       "      <td>inteligencia artificial</td>\n",
       "      <td>67</td>\n",
       "    </tr>\n",
       "  </tbody>\n",
       "</table>\n",
       "</div>"
      ],
      "text/plain": [
       "   matricula    nome       sexo               disciplina  nota\n",
       "0        123    Jose  Masculino                  calculo    69\n",
       "1        134   Maria   Feminino              programacao   100\n",
       "2        812    João  Masculino              programacao    98\n",
       "3        991  Camila   Feminino  inteligencia artificial    67"
      ]
     },
     "execution_count": 27,
     "metadata": {},
     "output_type": "execute_result"
    }
   ],
   "source": [
    "# merge uni dataframes\n",
    "df_novo = pd.merge(df_aluno,df_desempenho)\n",
    "df_novo"
   ]
  },
  {
   "cell_type": "code",
   "execution_count": 30,
   "metadata": {},
   "outputs": [
    {
     "data": {
      "text/html": [
       "<div>\n",
       "<style scoped>\n",
       "    .dataframe tbody tr th:only-of-type {\n",
       "        vertical-align: middle;\n",
       "    }\n",
       "\n",
       "    .dataframe tbody tr th {\n",
       "        vertical-align: top;\n",
       "    }\n",
       "\n",
       "    .dataframe thead th {\n",
       "        text-align: right;\n",
       "    }\n",
       "</style>\n",
       "<table border=\"1\" class=\"dataframe\">\n",
       "  <thead>\n",
       "    <tr style=\"text-align: right;\">\n",
       "      <th></th>\n",
       "      <th>matricula</th>\n",
       "      <th>nome</th>\n",
       "      <th>sexo</th>\n",
       "      <th>disciplina</th>\n",
       "      <th>nota</th>\n",
       "    </tr>\n",
       "  </thead>\n",
       "  <tbody>\n",
       "    <tr>\n",
       "      <th>1</th>\n",
       "      <td>134</td>\n",
       "      <td>Maria</td>\n",
       "      <td>Feminino</td>\n",
       "      <td>programacao</td>\n",
       "      <td>100</td>\n",
       "    </tr>\n",
       "    <tr>\n",
       "      <th>2</th>\n",
       "      <td>812</td>\n",
       "      <td>João</td>\n",
       "      <td>Masculino</td>\n",
       "      <td>programacao</td>\n",
       "      <td>98</td>\n",
       "    </tr>\n",
       "  </tbody>\n",
       "</table>\n",
       "</div>"
      ],
      "text/plain": [
       "   matricula   nome       sexo   disciplina  nota\n",
       "1        134  Maria   Feminino  programacao   100\n",
       "2        812   João  Masculino  programacao    98"
      ]
     },
     "execution_count": 30,
     "metadata": {},
     "output_type": "execute_result"
    }
   ],
   "source": [
    "notas_altas = df_novo.loc[df_novo['nota']>70]\n",
    "notas_altas"
   ]
  },
  {
   "cell_type": "code",
   "execution_count": 32,
   "metadata": {},
   "outputs": [
    {
     "data": {
      "text/html": [
       "<div>\n",
       "<style scoped>\n",
       "    .dataframe tbody tr th:only-of-type {\n",
       "        vertical-align: middle;\n",
       "    }\n",
       "\n",
       "    .dataframe tbody tr th {\n",
       "        vertical-align: top;\n",
       "    }\n",
       "\n",
       "    .dataframe thead th {\n",
       "        text-align: right;\n",
       "    }\n",
       "</style>\n",
       "<table border=\"1\" class=\"dataframe\">\n",
       "  <thead>\n",
       "    <tr style=\"text-align: right;\">\n",
       "      <th></th>\n",
       "      <th>matricula</th>\n",
       "      <th>nome</th>\n",
       "    </tr>\n",
       "  </thead>\n",
       "  <tbody>\n",
       "    <tr>\n",
       "      <th>1</th>\n",
       "      <td>134</td>\n",
       "      <td>Maria</td>\n",
       "    </tr>\n",
       "    <tr>\n",
       "      <th>2</th>\n",
       "      <td>812</td>\n",
       "      <td>João</td>\n",
       "    </tr>\n",
       "  </tbody>\n",
       "</table>\n",
       "</div>"
      ],
      "text/plain": [
       "   matricula   nome\n",
       "1        134  Maria\n",
       "2        812   João"
      ]
     },
     "execution_count": 32,
     "metadata": {},
     "output_type": "execute_result"
    }
   ],
   "source": [
    "notas_altas.drop(columns=['sexo','disciplina','nota'])"
   ]
  },
  {
   "cell_type": "markdown",
   "metadata": {
    "colab_type": "text",
    "id": "ZSEqQ3AEEjk3"
   },
   "source": [
    "## 15 - Apresente a média das notas de cada disciplina. "
   ]
  },
  {
   "cell_type": "code",
   "execution_count": 42,
   "metadata": {
    "colab": {},
    "colab_type": "code",
    "id": "5Lgm3f4vFA3Y"
   },
   "outputs": [
    {
     "data": {
      "text/html": [
       "<div>\n",
       "<style scoped>\n",
       "    .dataframe tbody tr th:only-of-type {\n",
       "        vertical-align: middle;\n",
       "    }\n",
       "\n",
       "    .dataframe tbody tr th {\n",
       "        vertical-align: top;\n",
       "    }\n",
       "\n",
       "    .dataframe thead th {\n",
       "        text-align: right;\n",
       "    }\n",
       "</style>\n",
       "<table border=\"1\" class=\"dataframe\">\n",
       "  <thead>\n",
       "    <tr style=\"text-align: right;\">\n",
       "      <th></th>\n",
       "      <th>matricula</th>\n",
       "      <th>nota</th>\n",
       "    </tr>\n",
       "    <tr>\n",
       "      <th>disciplina</th>\n",
       "      <th></th>\n",
       "      <th></th>\n",
       "    </tr>\n",
       "  </thead>\n",
       "  <tbody>\n",
       "    <tr>\n",
       "      <th>calculo</th>\n",
       "      <td>123</td>\n",
       "      <td>69</td>\n",
       "    </tr>\n",
       "    <tr>\n",
       "      <th>inteligencia artificial</th>\n",
       "      <td>991</td>\n",
       "      <td>67</td>\n",
       "    </tr>\n",
       "    <tr>\n",
       "      <th>programacao</th>\n",
       "      <td>473</td>\n",
       "      <td>99</td>\n",
       "    </tr>\n",
       "  </tbody>\n",
       "</table>\n",
       "</div>"
      ],
      "text/plain": [
       "                         matricula  nota\n",
       "disciplina                              \n",
       "calculo                        123    69\n",
       "inteligencia artificial        991    67\n",
       "programacao                    473    99"
      ]
     },
     "execution_count": 42,
     "metadata": {},
     "output_type": "execute_result"
    }
   ],
   "source": [
    "# df_novo.groupby(['nome', 'sexo']).size().groupby(level=1).mean()\n",
    "df_desempenho.groupby(['disciplina']).mean()"
   ]
  },
  {
   "cell_type": "code",
   "execution_count": null,
   "metadata": {},
   "outputs": [],
   "source": []
  }
 ],
 "metadata": {
  "colab": {
   "collapsed_sections": [
    "JndnmDMp66FL",
    "YHIWvc9Ms-Ll",
    "TJffr5_Jwqvd"
   ],
   "name": "Cópia de Introducao_Pandas_Lista_EXTRA.ipynb",
   "provenance": []
  },
  "kernelspec": {
   "display_name": "Python 3",
   "language": "python",
   "name": "python3"
  },
  "language_info": {
   "codemirror_mode": {
    "name": "ipython",
    "version": 3
   },
   "file_extension": ".py",
   "mimetype": "text/x-python",
   "name": "python",
   "nbconvert_exporter": "python",
   "pygments_lexer": "ipython3",
   "version": "3.7.6"
  }
 },
 "nbformat": 4,
 "nbformat_minor": 1
}
